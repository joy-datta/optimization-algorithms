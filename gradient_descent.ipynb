{
 "cells": [
  {
   "cell_type": "markdown",
   "metadata": {},
   "source": [
    "# Batch, Stochastic and Minibatch Gradient Descent"
   ]
  },
  {
   "cell_type": "code",
   "execution_count": 1,
   "metadata": {},
   "outputs": [],
   "source": [
    "%store -r X_train y_train X_test y_test"
   ]
  },
  {
   "cell_type": "code",
   "execution_count": 2,
   "metadata": {},
   "outputs": [],
   "source": [
    "import numpy as np\n",
    "import matplotlib.pyplot as plt\n",
    "import seaborn as sns"
   ]
  },
  {
   "cell_type": "code",
   "execution_count": 3,
   "metadata": {},
   "outputs": [
    {
     "data": {
      "text/html": [
       "<div>\n",
       "<style scoped>\n",
       "    .dataframe tbody tr th:only-of-type {\n",
       "        vertical-align: middle;\n",
       "    }\n",
       "\n",
       "    .dataframe tbody tr th {\n",
       "        vertical-align: top;\n",
       "    }\n",
       "\n",
       "    .dataframe thead th {\n",
       "        text-align: right;\n",
       "    }\n",
       "</style>\n",
       "<table border=\"1\" class=\"dataframe\">\n",
       "  <thead>\n",
       "    <tr style=\"text-align: right;\">\n",
       "      <th></th>\n",
       "      <th>bmi</th>\n",
       "      <th>s5</th>\n",
       "    </tr>\n",
       "  </thead>\n",
       "  <tbody>\n",
       "    <tr>\n",
       "      <th>381</th>\n",
       "      <td>0.004132</td>\n",
       "      <td>0.435853</td>\n",
       "    </tr>\n",
       "    <tr>\n",
       "      <th>392</th>\n",
       "      <td>0.231405</td>\n",
       "      <td>0.326986</td>\n",
       "    </tr>\n",
       "    <tr>\n",
       "      <th>155</th>\n",
       "      <td>0.578512</td>\n",
       "      <td>0.631167</td>\n",
       "    </tr>\n",
       "  </tbody>\n",
       "</table>\n",
       "</div>"
      ],
      "text/plain": [
       "          bmi        s5\n",
       "381  0.004132  0.435853\n",
       "392  0.231405  0.326986\n",
       "155  0.578512  0.631167"
      ]
     },
     "execution_count": 3,
     "metadata": {},
     "output_type": "execute_result"
    }
   ],
   "source": [
    "X_train.head(3)"
   ]
  },
  {
   "cell_type": "code",
   "execution_count": 4,
   "metadata": {},
   "outputs": [
    {
     "data": {
      "text/plain": [
       "381    0.246106\n",
       "392    0.289720\n",
       "155    0.501558\n",
       "Name: Y, dtype: float64"
      ]
     },
     "execution_count": 4,
     "metadata": {},
     "output_type": "execute_result"
    }
   ],
   "source": [
    "y_train.head(3)"
   ]
  },
  {
   "cell_type": "code",
   "execution_count": 5,
   "metadata": {},
   "outputs": [
    {
     "data": {
      "text/html": [
       "<div>\n",
       "<style scoped>\n",
       "    .dataframe tbody tr th:only-of-type {\n",
       "        vertical-align: middle;\n",
       "    }\n",
       "\n",
       "    .dataframe tbody tr th {\n",
       "        vertical-align: top;\n",
       "    }\n",
       "\n",
       "    .dataframe thead th {\n",
       "        text-align: right;\n",
       "    }\n",
       "</style>\n",
       "<table border=\"1\" class=\"dataframe\">\n",
       "  <thead>\n",
       "    <tr style=\"text-align: right;\">\n",
       "      <th></th>\n",
       "      <th>bmi</th>\n",
       "      <th>s5</th>\n",
       "    </tr>\n",
       "  </thead>\n",
       "  <tbody>\n",
       "    <tr>\n",
       "      <th>203</th>\n",
       "      <td>0.462810</td>\n",
       "      <td>0.583337</td>\n",
       "    </tr>\n",
       "    <tr>\n",
       "      <th>14</th>\n",
       "      <td>0.247934</td>\n",
       "      <td>0.362369</td>\n",
       "    </tr>\n",
       "    <tr>\n",
       "      <th>112</th>\n",
       "      <td>0.425620</td>\n",
       "      <td>0.394510</td>\n",
       "    </tr>\n",
       "  </tbody>\n",
       "</table>\n",
       "</div>"
      ],
      "text/plain": [
       "          bmi        s5\n",
       "203  0.462810  0.583337\n",
       "14   0.247934  0.362369\n",
       "112  0.425620  0.394510"
      ]
     },
     "execution_count": 5,
     "metadata": {},
     "output_type": "execute_result"
    }
   ],
   "source": [
    "X_test.head(3)"
   ]
  },
  {
   "cell_type": "code",
   "execution_count": 6,
   "metadata": {},
   "outputs": [
    {
     "data": {
      "text/plain": [
       "203    0.613707\n",
       "14     0.289720\n",
       "112    0.688474\n",
       "Name: Y, dtype: float64"
      ]
     },
     "execution_count": 6,
     "metadata": {},
     "output_type": "execute_result"
    }
   ],
   "source": [
    "y_test.head(3)"
   ]
  },
  {
   "cell_type": "code",
   "execution_count": 7,
   "metadata": {},
   "outputs": [
    {
     "data": {
      "text/html": [
       "<div>\n",
       "<style scoped>\n",
       "    .dataframe tbody tr th:only-of-type {\n",
       "        vertical-align: middle;\n",
       "    }\n",
       "\n",
       "    .dataframe tbody tr th {\n",
       "        vertical-align: top;\n",
       "    }\n",
       "\n",
       "    .dataframe thead th {\n",
       "        text-align: right;\n",
       "    }\n",
       "</style>\n",
       "<table border=\"1\" class=\"dataframe\">\n",
       "  <thead>\n",
       "    <tr style=\"text-align: right;\">\n",
       "      <th></th>\n",
       "      <th>bmi</th>\n",
       "      <th>s5</th>\n",
       "      <th>ones_feature</th>\n",
       "    </tr>\n",
       "  </thead>\n",
       "  <tbody>\n",
       "    <tr>\n",
       "      <th>381</th>\n",
       "      <td>0.004132</td>\n",
       "      <td>0.435853</td>\n",
       "      <td>1.0</td>\n",
       "    </tr>\n",
       "    <tr>\n",
       "      <th>392</th>\n",
       "      <td>0.231405</td>\n",
       "      <td>0.326986</td>\n",
       "      <td>1.0</td>\n",
       "    </tr>\n",
       "    <tr>\n",
       "      <th>155</th>\n",
       "      <td>0.578512</td>\n",
       "      <td>0.631167</td>\n",
       "      <td>1.0</td>\n",
       "    </tr>\n",
       "  </tbody>\n",
       "</table>\n",
       "</div>"
      ],
      "text/plain": [
       "          bmi        s5  ones_feature\n",
       "381  0.004132  0.435853           1.0\n",
       "392  0.231405  0.326986           1.0\n",
       "155  0.578512  0.631167           1.0"
      ]
     },
     "execution_count": 7,
     "metadata": {},
     "output_type": "execute_result"
    }
   ],
   "source": [
    "X_train[\"ones_feature\"] = np.ones((len(X_train), 1))\n",
    "X_test[\"ones_feature\"] = np.ones((len(X_test), 1))\n",
    "X_train.head(3)"
   ]
  },
  {
   "cell_type": "code",
   "execution_count": 8,
   "metadata": {},
   "outputs": [
    {
     "data": {
      "text/plain": [
       "((353, 3), (353,), (89, 3), (89,))"
      ]
     },
     "execution_count": 8,
     "metadata": {},
     "output_type": "execute_result"
    }
   ],
   "source": [
    "X_train.shape, y_train.shape, X_test.shape, y_test.shape"
   ]
  },
  {
   "cell_type": "code",
   "execution_count": 9,
   "metadata": {},
   "outputs": [
    {
     "data": {
      "text/plain": [
       "((353, 3), (353, 1), (89, 3), (89, 1))"
      ]
     },
     "execution_count": 9,
     "metadata": {},
     "output_type": "execute_result"
    }
   ],
   "source": [
    "X_train = np.array(X_train)\n",
    "y_train = np.array(y_train).reshape((len(y_train), 1))\n",
    "X_test = np.array(X_test)\n",
    "y_test = np.array(y_test).reshape((len(y_test), 1))\n",
    "X_train.shape, y_train.shape, X_test.shape, y_test.shape"
   ]
  },
  {
   "cell_type": "markdown",
   "metadata": {},
   "source": [
    "## Defining the function for Gradient Descent"
   ]
  },
  {
   "cell_type": "code",
   "execution_count": 11,
   "metadata": {},
   "outputs": [],
   "source": [
    "def gradient_descent(x, y, batch_size = 1, epochs = 1, learning_rate = 0.01, tolerance = None):\n",
    "    \"\"\"\n",
    "    Calculates gradient vector of the cost function wrt each model parameter and also updates the parameter.\n",
    "    Inputs: x (predictors' values), y (actual targets), batch_size (number of instances to feed at each step, default is 1),\n",
    "    epochs (number of epochs, default is 1), learning_rate (default is 0.01) and tolerance (default is None).\n",
    "    Outputs: epoch_list (a list with epoch numbers), parameters_list (list of all the model parameters at each epoch), cost_list (list of costs at each epoch).\n",
    "    \"\"\"\n",
    "    parameters = np.random.randn(3, 1)\n",
    "    epoch_list = []\n",
    "    parameters_list = []\n",
    "    cost_list = []\n",
    "    for epoch in range(epochs):\n",
    "        index_shuffled = np.random.permutation(len(x))\n",
    "        x = x[index_shuffled]\n",
    "        y = y[index_shuffled]\n",
    "        epoch_list.append(epoch)\n",
    "        parameters_list.append((parameters[0], parameters[1], parameters[2]))\n",
    "        cost_list.append(mse(x, y, parameters))\n",
    "        for i in range(0, len(x), batch_size):\n",
    "            x_index = x[i: i + batch_size]\n",
    "            y_index = y[i: i + batch_size]\n",
    "            cost = mse(x, y, parameters)\n",
    "            gradients = 2 / batch_size * x_index.T.dot(x_index.dot(parameters) - y_index)\n",
    "            parameters = parameters - (learning_rate * gradients)\n",
    "            if tolerance != None and cost <= tolerance:\n",
    "                return epoch_list, parameters_list, cost_list \n",
    "    return epoch_list, parameters_list, cost_list"
   ]
  },
  {
   "cell_type": "markdown",
   "metadata": {},
   "source": [
    "## Function for calculating MSE"
   ]
  },
  {
   "cell_type": "code",
   "execution_count": 12,
   "metadata": {},
   "outputs": [],
   "source": [
    "def mse(x, y, parameters):\n",
    "    \"\"\"\n",
    "    Calculates and returns Mean Squared Error.\n",
    "    Inputs: x (predictors' values), y (target values), parameters (parameter values).\n",
    "    Output: MSE.\n",
    "    \"\"\"\n",
    "    error = (predict(x, parameters) - y)**2\n",
    "    mse = 1 / len(x) * np.sum(error, axis = 0)\n",
    "    return float(mse)"
   ]
  },
  {
   "cell_type": "markdown",
   "metadata": {},
   "source": [
    "## Function for prediction"
   ]
  },
  {
   "cell_type": "code",
   "execution_count": 13,
   "metadata": {},
   "outputs": [],
   "source": [
    "def predict(x, parameters):\n",
    "    \"\"\"\n",
    "    Predicts targets.\n",
    "    Inputs: x (predictors' values), parameters (parameters' values).\n",
    "    Output: predicted target.\n",
    "    \"\"\"\n",
    "    return x.dot(parameters)"
   ]
  },
  {
   "cell_type": "markdown",
   "metadata": {},
   "source": [
    "## Batch Gradient Descent"
   ]
  },
  {
   "cell_type": "markdown",
   "metadata": {},
   "source": [
    "Since I don't know how many epochs it'll take to converge to good solution, I will set epochs to 1000000 and say the algo to stop when cost <= a certain value and it is called tolerance. By setting large number of epochs, I will let the algo to iterate enough times to converge to the expected solution."
   ]
  },
  {
   "cell_type": "code",
   "execution_count": 14,
   "metadata": {},
   "outputs": [],
   "source": [
    "epochs_bgd, parameters_bgd, costs_bgd = gradient_descent(X_train, y_train, batch_size = len(X_train), epochs = 1000000, learning_rate = 0.01, tolerance = 0.03)"
   ]
  },
  {
   "cell_type": "code",
   "execution_count": 15,
   "metadata": {},
   "outputs": [
    {
     "data": {
      "text/plain": [
       "(0.02999881480082053, 0.04089507329830574)"
      ]
     },
     "execution_count": 15,
     "metadata": {},
     "output_type": "execute_result"
    }
   ],
   "source": [
    "mse(X_train, y_train, parameters_bgd[-1]), mse(X_test, y_test, parameters_bgd[-1])"
   ]
  },
  {
   "cell_type": "code",
   "execution_count": 16,
   "metadata": {},
   "outputs": [
    {
     "data": {
      "text/plain": [
       "2255"
      ]
     },
     "execution_count": 16,
     "metadata": {},
     "output_type": "execute_result"
    }
   ],
   "source": [
    "len(epochs_bgd)"
   ]
  },
  {
   "cell_type": "code",
   "execution_count": 17,
   "metadata": {},
   "outputs": [
    {
     "name": "stdout",
     "output_type": "stream",
     "text": [
      "Stored 'epochs_bgd' (list)\n",
      "Stored 'parameters_bgd' (list)\n",
      "Stored 'costs_bgd' (list)\n"
     ]
    }
   ],
   "source": [
    "%store epochs_bgd parameters_bgd costs_bgd"
   ]
  },
  {
   "cell_type": "markdown",
   "metadata": {},
   "source": [
    "## Stochastic Gradient Descent"
   ]
  },
  {
   "cell_type": "code",
   "execution_count": 34,
   "metadata": {},
   "outputs": [],
   "source": [
    "epochs_sgd, parameters_sgd, costs_sgd = gradient_descent(X_train, y_train, batch_size = 1, epochs = 1000000, learning_rate = 0.01, tolerance = 0.03)"
   ]
  },
  {
   "cell_type": "code",
   "execution_count": 35,
   "metadata": {},
   "outputs": [
    {
     "data": {
      "text/plain": [
       "(0.030134784567817922, 0.04194576586559235)"
      ]
     },
     "execution_count": 35,
     "metadata": {},
     "output_type": "execute_result"
    }
   ],
   "source": [
    "mse(X_train, y_train, parameters_sgd[-1]), mse(X_test, y_test, parameters_sgd[-1])"
   ]
  },
  {
   "cell_type": "code",
   "execution_count": 36,
   "metadata": {},
   "outputs": [
    {
     "data": {
      "text/plain": [
       "11"
      ]
     },
     "execution_count": 36,
     "metadata": {},
     "output_type": "execute_result"
    }
   ],
   "source": [
    "len(epochs_sgd)"
   ]
  },
  {
   "cell_type": "code",
   "execution_count": 37,
   "metadata": {},
   "outputs": [
    {
     "name": "stdout",
     "output_type": "stream",
     "text": [
      "Stored 'epochs_sgd' (list)\n",
      "Stored 'parameters_sgd' (list)\n",
      "Stored 'costs_sgd' (list)\n"
     ]
    }
   ],
   "source": [
    "%store epochs_sgd parameters_sgd costs_sgd"
   ]
  },
  {
   "cell_type": "markdown",
   "metadata": {},
   "source": [
    "## Minibatch Stochastic Gradient Descent"
   ]
  },
  {
   "cell_type": "code",
   "execution_count": 38,
   "metadata": {},
   "outputs": [],
   "source": [
    "epochs_mbsgd, parameters_mbsgd, costs_mbsgd = gradient_descent(X_train, y_train, batch_size = 8, epochs = 10000000, learning_rate = 0.01, tolerance = 0.03)"
   ]
  },
  {
   "cell_type": "code",
   "execution_count": 39,
   "metadata": {},
   "outputs": [
    {
     "data": {
      "text/plain": [
       "(0.030021958747444896, 0.04034297412385732)"
      ]
     },
     "execution_count": 39,
     "metadata": {},
     "output_type": "execute_result"
    }
   ],
   "source": [
    "mse(X_train, y_train, parameters_mbsgd[-1]), mse(X_test, y_test, parameters_mbsgd[-1])"
   ]
  },
  {
   "cell_type": "code",
   "execution_count": 40,
   "metadata": {},
   "outputs": [
    {
     "data": {
      "text/plain": [
       "106"
      ]
     },
     "execution_count": 40,
     "metadata": {},
     "output_type": "execute_result"
    }
   ],
   "source": [
    "len(epochs_mbsgd)"
   ]
  },
  {
   "cell_type": "code",
   "execution_count": 42,
   "metadata": {},
   "outputs": [
    {
     "name": "stdout",
     "output_type": "stream",
     "text": [
      "Stored 'epochs_mbsgd' (list)\n",
      "Stored 'parameters_mbsgd' (list)\n",
      "Stored 'costs_mbsgd' (list)\n"
     ]
    }
   ],
   "source": [
    "%store epochs_mbsgd parameters_mbsgd costs_mbsgd"
   ]
  },
  {
   "cell_type": "code",
   "execution_count": null,
   "metadata": {},
   "outputs": [],
   "source": []
  }
 ],
 "metadata": {
  "kernelspec": {
   "display_name": "Python 3",
   "language": "python",
   "name": "python3"
  },
  "language_info": {
   "codemirror_mode": {
    "name": "ipython",
    "version": 3
   },
   "file_extension": ".py",
   "mimetype": "text/x-python",
   "name": "python",
   "nbconvert_exporter": "python",
   "pygments_lexer": "ipython3",
   "version": "3.8.5"
  }
 },
 "nbformat": 4,
 "nbformat_minor": 4
}
