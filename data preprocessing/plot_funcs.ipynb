{
 "cells": [
  {
   "cell_type": "markdown",
   "metadata": {},
   "source": [
    "# Plot functions for Exploratory Data Analysis (EDA)"
   ]
  },
  {
   "cell_type": "code",
   "execution_count": 1,
   "metadata": {},
   "outputs": [],
   "source": [
    "import matplotlib.pyplot as plt\n",
    "import seaborn as sns"
   ]
  },
  {
   "cell_type": "code",
   "execution_count": 2,
   "metadata": {},
   "outputs": [],
   "source": [
    "#plot function for data distributions\n",
    "def histplot(rows, columns, data, grid = \"darkgrid\", hspace = 0.5, figsize = (15, 12), suptitle = \"data distributions\"):\n",
    "    \"\"\"\n",
    "    Creates data distribution subplot of each given variable.\n",
    "    Inputs: rows (number of rows), columns (number of columns), data, grid (default is darkgrid), hspace (default is 0.5), figsize (default is (15, 12)), suptitle (default is \"data distributions\").\n",
    "    Output: subplots of data distribution or histplot of the given variables.\n",
    "    \"\"\"\n",
    "    sns.set(rc = {\"figure.figsize\": figsize})\n",
    "    sns.set_theme(style = grid)\n",
    "    fig, axes = plt.subplots(rows, columns)\n",
    "    plt.subplots_adjust(hspace = hspace)\n",
    "    count = 0\n",
    "    if rows*columns > len(data.keys()):\n",
    "        for row in range(rows):\n",
    "            for column in range(columns):\n",
    "                if row == rows - 1 and column == columns - 1:\n",
    "                    fig.delaxes(axes[row, column])\n",
    "                else:\n",
    "                    sns.histplot(data[data.keys()[count]], ax = axes[row, column], kde = True)\n",
    "                    #kde is kernel density estimation that estimates the pdf of a continous random variable\n",
    "                count += 1\n",
    "    else:\n",
    "        for row in range(rows):\n",
    "            for column in range(columns):\n",
    "                sns.histplot(data[data.keys()[count]], ax = axes[row, column], kde = True)\n",
    "                count += 1\n",
    "    plt.suptitle(suptitle)\n",
    "    plt.show()"
   ]
  },
  {
   "cell_type": "code",
   "execution_count": 3,
   "metadata": {},
   "outputs": [],
   "source": [
    "#plot function for boxplots\n",
    "def boxplot(rows, columns, data, grid = \"darkgrid\", hspace = 0.5, figsize = (15, 12), suptitle = \"boxplots\"):\n",
    "    \"\"\"\n",
    "    Creates boxplot subplot of each given variable.\n",
    "    Inputs: rows (number of rows), columns (number of columns), data, grid (default is darkgrid), hspace (default is 0.5), figsize (default is (15, 12)), suptitle (default is \"boxplots\").\n",
    "    Output: subplots of boxplot of the given variables.\n",
    "    \"\"\"\n",
    "    sns.set(rc = {\"figure.figsize\": figsize})\n",
    "    sns.set_theme(style = grid)\n",
    "    fig, axes = plt.subplots(rows, columns)\n",
    "    plt.subplots_adjust(hspace = hspace)\n",
    "    count = 0\n",
    "    if rows*columns > len(data.keys()):\n",
    "        for row in range(rows):\n",
    "            for column in range(columns):\n",
    "                if row == rows - 1 and column == columns - 1:\n",
    "                    fig.delaxes(axes[row, column])\n",
    "                else:\n",
    "                    sns.boxplot(x = data[data.keys()[count]], ax = axes[row, column])\n",
    "                count += 1\n",
    "    else:\n",
    "        for row in range(rows):\n",
    "            for column in range(columns):\n",
    "                sns.boxplot(x = data[data.keys()[count]], ax = axes[row, column])\n",
    "                count += 1\n",
    "    plt.suptitle(suptitle)\n",
    "    plt.show()"
   ]
  },
  {
   "cell_type": "code",
   "execution_count": 4,
   "metadata": {},
   "outputs": [],
   "source": [
    "#plot function for violinplot\n",
    "def violinplot(rows, columns, data, grid = \"darkgrid\", hspace = 0.5, figsize = (15, 12), suptitle = \"violinplots\"):\n",
    "    \"\"\"\n",
    "    Creates violinplot subplot of each given variable.\n",
    "    Inputs: rows (number of rows), columns (number of columns), data, grid (default is darkgrid), hspace (default is 0.5), figsize (default is (15, 12)), suptitle (default is \"violinplots\").\n",
    "    Output: subplots of violinplots of the given variables.\n",
    "    \"\"\"\n",
    "    sns.set(rc = {\"figure.figsize\": figsize})\n",
    "    sns.set_theme(style = grid)\n",
    "    fig, axes = plt.subplots(rows, columns)\n",
    "    plt.subplots_adjust(hspace = hspace)\n",
    "    count = 0\n",
    "    if rows*columns > len(data.keys()):\n",
    "        for row in range(rows):\n",
    "            for column in range(columns):\n",
    "                if row == rows - 1 and column == columns - 1:\n",
    "                    fig.delaxes(axes[row, column])\n",
    "                else:\n",
    "                    sns.violinplot(x = data[data.keys()[count]], ax = axes[row, column])\n",
    "                count += 1\n",
    "    else:\n",
    "        for row in range(rows):\n",
    "            for column in range(columns):\n",
    "                sns.violinplot(x = data[data.keys()[count]], ax = axes[row, column])\n",
    "                count += 1\n",
    "    plt.suptitle(suptitle)\n",
    "    plt.show()"
   ]
  },
  {
   "cell_type": "code",
   "execution_count": 5,
   "metadata": {},
   "outputs": [],
   "source": [
    "#plot function for pairgrid\n",
    "def pairgrid(data, diag = sns.kdeplot, upper = sns.scatterplot, lower = sns.kdeplot, grid = \"darkgrid\"):\n",
    "    \"\"\"\n",
    "    Plots pairwise relationship between each variable.\n",
    "    Inputs: data, diag (default is sns.kdeplot), upper (default is sns.scatterplot), lower (default is sns.kdeplot), grid (default is darkgrid).\n",
    "    Output: subplots of relationship between each variable.\n",
    "    \"\"\"\n",
    "    sns.set_theme(style = grid)\n",
    "    g = sns.PairGrid(data)\n",
    "    g.map_diag(diag)\n",
    "    g.map_upper(upper)\n",
    "    g.map_lower(lower)\n",
    "    plt.show()"
   ]
  }
 ],
 "metadata": {
  "kernelspec": {
   "display_name": "Python 3",
   "language": "python",
   "name": "python3"
  },
  "language_info": {
   "codemirror_mode": {
    "name": "ipython",
    "version": 3
   },
   "file_extension": ".py",
   "mimetype": "text/x-python",
   "name": "python",
   "nbconvert_exporter": "python",
   "pygments_lexer": "ipython3",
   "version": "3.8.5"
  }
 },
 "nbformat": 4,
 "nbformat_minor": 4
}
